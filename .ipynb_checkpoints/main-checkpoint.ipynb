{
 "cells": [
  {
   "cell_type": "markdown",
   "metadata": {},
   "source": [
    "# ASL Letter Recognition"
   ]
  },
  {
   "cell_type": "markdown",
   "metadata": {},
   "source": [
    "## Setup"
   ]
  },
  {
   "cell_type": "code",
   "execution_count": 1,
   "metadata": {},
   "outputs": [],
   "source": [
    "WORKPLACE_PATH = 'Tensorflow/workplace'\n",
    "SCRIPTS_PATH = 'Tensorflow/scripts'\n",
    "APIMODEL_PATH = 'Tensorflow/models'\n",
    "ANNOTATION_PATH = WORKPLACE_PATH + '/annotations'\n",
    "IMAGE_PATH = WORKPLACE_PATH + '/images'\n",
    "MODEL_PATH = WORKPLACE_PATH + '/models'\n",
    "PRETRAINED_MODEL_PATH = WORKPLACE_PATH + '/pre-trained-models'\n",
    "CONFIG_PATH = MODEL_PATH + '/my_ssd_mobnet/pipeline.config'\n",
    "CHECKPOINT_PATH = MODEL_PATH + '/my_ssd_mobnet/'"
   ]
  },
  {
   "cell_type": "markdown",
   "metadata": {},
   "source": [
    "## Generate Labels"
   ]
  },
  {
   "cell_type": "code",
   "execution_count": 2,
   "metadata": {},
   "outputs": [],
   "source": [
    "labels = [{'name':'a', 'id':1},\n",
    "          {'name':'b', 'id':2},\n",
    "          {'name':'c', 'id':3},\n",
    "          {'name':'d', 'id':4},\n",
    "          {'name':'e', 'id':5},\n",
    "          {'name':'f', 'id':6},\n",
    "          {'name':'g', 'id':7},\n",
    "          {'name':'h', 'id':8},\n",
    "          {'name':'i', 'id':9},\n",
    "          {'name':'j', 'id':10},\n",
    "          {'name':'k', 'id':11},\n",
    "          {'name':'l', 'id':12},\n",
    "          {'name':'m', 'id':13},\n",
    "          {'name':'n', 'id':14},\n",
    "          {'name':'o', 'id':15},\n",
    "          {'name':'p', 'id':16},\n",
    "          {'name':'q', 'id':17},\n",
    "          {'name':'r', 'id':18},\n",
    "          {'name':'s', 'id':19},\n",
    "          {'name':'t', 'id':20},\n",
    "          {'name':'u', 'id':21},\n",
    "          {'name':'v', 'id':22},\n",
    "          {'name':'w', 'id':23},\n",
    "          {'name':'x', 'id':24},\n",
    "          {'name':'y', 'id':25},\n",
    "          {'name':'z', 'id':26},\n",
    "          ]"
   ]
  },
  {
   "cell_type": "code",
   "execution_count": 3,
   "metadata": {},
   "outputs": [],
   "source": [
    "with open('Tensorflow\\workplace\\Annotation\\label_map.pbtxt', 'w') as f:\n",
    "    for label in labels:\n",
    "        f.write('item { \\n')\n",
    "        f.write('\\tname:\\'{}\\'\\n'.format(label['name']))\n",
    "        f.write('\\tid:{}\\n'.format(label['id']))\n",
    "        f.write('}\\n')"
   ]
  },
  {
   "cell_type": "markdown",
   "metadata": {},
   "source": [
    "## Generate TF records"
   ]
  },
  {
   "cell_type": "code",
   "execution_count": 4,
   "metadata": {},
   "outputs": [
    {
     "name": "stdout",
     "output_type": "stream",
     "text": [
      "Defaulting to user installation because normal site-packages is not writeable\n",
      "Collecting tensorflow-object-detection-api\n",
      "  Downloading tensorflow_object_detection_api-0.1.1.tar.gz (577 kB)\n",
      "\u001b[K     |████████████████████████████████| 577 kB 93 kB/s eta 0:00:011\n",
      "\u001b[?25hCollecting Cython>=0.28.1\n",
      "  Downloading Cython-0.29.22-cp38-cp38-manylinux1_x86_64.whl (1.9 MB)\n",
      "\u001b[K     |████████████████████████████████| 1.9 MB 1.8 MB/s eta 0:00:01\n",
      "\u001b[?25hRequirement already satisfied: Matplotlib>=2.1 in /home/ishani/.local/lib/python3.8/site-packages (from tensorflow-object-detection-api) (3.3.3)\n",
      "Requirement already satisfied: Pillow>=1.0 in /usr/lib/python3/dist-packages (from tensorflow-object-detection-api) (7.0.0)\n",
      "Requirement already satisfied: Protobuf in /home/ishani/.local/lib/python3.8/site-packages (from tensorflow-object-detection-api) (3.14.0)\n",
      "Collecting contextlib2\n",
      "  Downloading contextlib2-0.6.0.post1-py2.py3-none-any.whl (9.8 kB)\n",
      "Requirement already satisfied: jupyter in /home/ishani/.local/lib/python3.8/site-packages (from tensorflow-object-detection-api) (1.0.0)\n",
      "Requirement already satisfied: lxml in /home/ishani/.local/lib/python3.8/site-packages (from tensorflow-object-detection-api) (4.6.2)\n",
      "Requirement already satisfied: tensorflow in /home/ishani/.local/lib/python3.8/site-packages (from tensorflow-object-detection-api) (2.4.0)\n",
      "Collecting twine\n",
      "  Downloading twine-3.3.0-py3-none-any.whl (34 kB)\n",
      "Requirement already satisfied: wheel in /home/ishani/.local/lib/python3.8/site-packages (from tensorflow-object-detection-api) (0.36.2)\n",
      "Requirement already satisfied: nbconvert in /home/ishani/.local/lib/python3.8/site-packages (from jupyter->tensorflow-object-detection-api) (6.0.7)\n",
      "Requirement already satisfied: ipykernel in /home/ishani/.local/lib/python3.8/site-packages (from jupyter->tensorflow-object-detection-api) (5.4.2)\n",
      "Requirement already satisfied: qtconsole in /home/ishani/.local/lib/python3.8/site-packages (from jupyter->tensorflow-object-detection-api) (5.0.1)\n",
      "Requirement already satisfied: jupyter-console in /home/ishani/.local/lib/python3.8/site-packages (from jupyter->tensorflow-object-detection-api) (6.2.0)\n",
      "Requirement already satisfied: notebook in /home/ishani/.local/lib/python3.8/site-packages (from jupyter->tensorflow-object-detection-api) (6.1.6)\n",
      "Requirement already satisfied: ipywidgets in /home/ishani/.local/lib/python3.8/site-packages (from jupyter->tensorflow-object-detection-api) (7.6.2)\n",
      "Requirement already satisfied: ipython>=5.0.0 in /home/ishani/.local/lib/python3.8/site-packages (from ipykernel->jupyter->tensorflow-object-detection-api) (7.19.0)\n",
      "Requirement already satisfied: traitlets>=4.1.0 in /home/ishani/.local/lib/python3.8/site-packages (from ipykernel->jupyter->tensorflow-object-detection-api) (5.0.5)\n",
      "Requirement already satisfied: tornado>=4.2 in /home/ishani/.local/lib/python3.8/site-packages (from ipykernel->jupyter->tensorflow-object-detection-api) (6.1)\n",
      "Requirement already satisfied: jupyter-client in /home/ishani/.local/lib/python3.8/site-packages (from ipykernel->jupyter->tensorflow-object-detection-api) (6.1.7)\n",
      "Requirement already satisfied: pygments in /home/ishani/.local/lib/python3.8/site-packages (from ipython>=5.0.0->ipykernel->jupyter->tensorflow-object-detection-api) (2.7.3)\n",
      "Requirement already satisfied: pexpect>4.3 in /usr/lib/python3/dist-packages (from ipython>=5.0.0->ipykernel->jupyter->tensorflow-object-detection-api) (4.6.0)\n",
      "Requirement already satisfied: decorator in /home/ishani/.local/lib/python3.8/site-packages (from ipython>=5.0.0->ipykernel->jupyter->tensorflow-object-detection-api) (4.4.2)\n",
      "Requirement already satisfied: pickleshare in /home/ishani/.local/lib/python3.8/site-packages (from ipython>=5.0.0->ipykernel->jupyter->tensorflow-object-detection-api) (0.7.5)\n",
      "Requirement already satisfied: backcall in /home/ishani/.local/lib/python3.8/site-packages (from ipython>=5.0.0->ipykernel->jupyter->tensorflow-object-detection-api) (0.2.0)\n",
      "Requirement already satisfied: setuptools>=18.5 in /usr/lib/python3/dist-packages (from ipython>=5.0.0->ipykernel->jupyter->tensorflow-object-detection-api) (45.2.0)\n",
      "Requirement already satisfied: jedi>=0.10 in /home/ishani/.local/lib/python3.8/site-packages (from ipython>=5.0.0->ipykernel->jupyter->tensorflow-object-detection-api) (0.17.2)\n",
      "Requirement already satisfied: prompt-toolkit!=3.0.0,!=3.0.1,<3.1.0,>=2.0.0 in /home/ishani/.local/lib/python3.8/site-packages (from ipython>=5.0.0->ipykernel->jupyter->tensorflow-object-detection-api) (3.0.8)\n",
      "Requirement already satisfied: parso<0.8.0,>=0.7.0 in /home/ishani/.local/lib/python3.8/site-packages (from jedi>=0.10->ipython>=5.0.0->ipykernel->jupyter->tensorflow-object-detection-api) (0.7.1)\n",
      "Requirement already satisfied: wcwidth in /home/ishani/.local/lib/python3.8/site-packages (from prompt-toolkit!=3.0.0,!=3.0.1,<3.1.0,>=2.0.0->ipython>=5.0.0->ipykernel->jupyter->tensorflow-object-detection-api) (0.2.5)\n",
      "Requirement already satisfied: ipython-genutils in /home/ishani/.local/lib/python3.8/site-packages (from traitlets>=4.1.0->ipykernel->jupyter->tensorflow-object-detection-api) (0.2.0)\n",
      "Requirement already satisfied: nbformat>=4.2.0 in /home/ishani/.local/lib/python3.8/site-packages (from ipywidgets->jupyter->tensorflow-object-detection-api) (5.0.8)\n",
      "Requirement already satisfied: widgetsnbextension~=3.5.0 in /home/ishani/.local/lib/python3.8/site-packages (from ipywidgets->jupyter->tensorflow-object-detection-api) (3.5.1)\n",
      "Requirement already satisfied: jupyterlab-widgets>=1.0.0 in /home/ishani/.local/lib/python3.8/site-packages (from ipywidgets->jupyter->tensorflow-object-detection-api) (1.0.0)\n",
      "Requirement already satisfied: jupyter-core in /home/ishani/.local/lib/python3.8/site-packages (from nbformat>=4.2.0->ipywidgets->jupyter->tensorflow-object-detection-api) (4.7.0)\n",
      "Requirement already satisfied: jsonschema!=2.5.0,>=2.4 in /home/ishani/.local/lib/python3.8/site-packages (from nbformat>=4.2.0->ipywidgets->jupyter->tensorflow-object-detection-api) (3.2.0)\n",
      "Requirement already satisfied: attrs>=17.4.0 in /home/ishani/.local/lib/python3.8/site-packages (from jsonschema!=2.5.0,>=2.4->nbformat>=4.2.0->ipywidgets->jupyter->tensorflow-object-detection-api) (20.3.0)\n",
      "Requirement already satisfied: pyrsistent>=0.14.0 in /home/ishani/.local/lib/python3.8/site-packages (from jsonschema!=2.5.0,>=2.4->nbformat>=4.2.0->ipywidgets->jupyter->tensorflow-object-detection-api) (0.17.3)\n",
      "Requirement already satisfied: six>=1.11.0 in /home/ishani/.local/lib/python3.8/site-packages (from jsonschema!=2.5.0,>=2.4->nbformat>=4.2.0->ipywidgets->jupyter->tensorflow-object-detection-api) (1.15.0)\n",
      "Requirement already satisfied: terminado>=0.8.3 in /home/ishani/.local/lib/python3.8/site-packages (from notebook->jupyter->tensorflow-object-detection-api) (0.9.1)\n",
      "Requirement already satisfied: pyzmq>=17 in /home/ishani/.local/lib/python3.8/site-packages (from notebook->jupyter->tensorflow-object-detection-api) (20.0.0)\n",
      "Requirement already satisfied: argon2-cffi in /home/ishani/.local/lib/python3.8/site-packages (from notebook->jupyter->tensorflow-object-detection-api) (20.1.0)\n",
      "Requirement already satisfied: Send2Trash in /home/ishani/.local/lib/python3.8/site-packages (from notebook->jupyter->tensorflow-object-detection-api) (1.5.0)\n",
      "Requirement already satisfied: prometheus-client in /home/ishani/.local/lib/python3.8/site-packages (from notebook->jupyter->tensorflow-object-detection-api) (0.9.0)\n",
      "Requirement already satisfied: jinja2 in /home/ishani/.local/lib/python3.8/site-packages (from notebook->jupyter->tensorflow-object-detection-api) (2.11.2)\n",
      "Requirement already satisfied: python-dateutil>=2.1 in /usr/lib/python3/dist-packages (from jupyter-client->ipykernel->jupyter->tensorflow-object-detection-api) (2.7.3)\n",
      "Requirement already satisfied: ptyprocess in /home/ishani/.local/lib/python3.8/site-packages (from terminado>=0.8.3->notebook->jupyter->tensorflow-object-detection-api) (0.7.0)\n",
      "Requirement already satisfied: cffi>=1.0.0 in /home/ishani/.local/lib/python3.8/site-packages (from argon2-cffi->notebook->jupyter->tensorflow-object-detection-api) (1.14.4)\n",
      "Requirement already satisfied: pycparser in /home/ishani/.local/lib/python3.8/site-packages (from cffi>=1.0.0->argon2-cffi->notebook->jupyter->tensorflow-object-detection-api) (2.20)\n"
     ]
    },
    {
     "name": "stdout",
     "output_type": "stream",
     "text": [
      "Requirement already satisfied: MarkupSafe>=0.23 in /usr/lib/python3/dist-packages (from jinja2->notebook->jupyter->tensorflow-object-detection-api) (1.1.0)\n",
      "Requirement already satisfied: pyparsing!=2.0.4,!=2.1.2,!=2.1.6,>=2.0.3 in /home/ishani/.local/lib/python3.8/site-packages (from Matplotlib>=2.1->tensorflow-object-detection-api) (2.4.7)\n",
      "Requirement already satisfied: cycler>=0.10 in /home/ishani/.local/lib/python3.8/site-packages (from Matplotlib>=2.1->tensorflow-object-detection-api) (0.10.0)\n",
      "Requirement already satisfied: kiwisolver>=1.0.1 in /home/ishani/.local/lib/python3.8/site-packages (from Matplotlib>=2.1->tensorflow-object-detection-api) (1.3.1)\n",
      "Requirement already satisfied: numpy>=1.15 in /home/ishani/.local/lib/python3.8/site-packages (from Matplotlib>=2.1->tensorflow-object-detection-api) (1.19.5)\n",
      "Requirement already satisfied: mistune<2,>=0.8.1 in /home/ishani/.local/lib/python3.8/site-packages (from nbconvert->jupyter->tensorflow-object-detection-api) (0.8.4)\n",
      "Requirement already satisfied: pandocfilters>=1.4.1 in /home/ishani/.local/lib/python3.8/site-packages (from nbconvert->jupyter->tensorflow-object-detection-api) (1.4.3)\n",
      "Requirement already satisfied: entrypoints>=0.2.2 in /usr/lib/python3/dist-packages (from nbconvert->jupyter->tensorflow-object-detection-api) (0.3)\n",
      "Requirement already satisfied: testpath in /home/ishani/.local/lib/python3.8/site-packages (from nbconvert->jupyter->tensorflow-object-detection-api) (0.4.4)\n",
      "Requirement already satisfied: jupyterlab-pygments in /home/ishani/.local/lib/python3.8/site-packages (from nbconvert->jupyter->tensorflow-object-detection-api) (0.1.2)\n",
      "Requirement already satisfied: nbclient<0.6.0,>=0.5.0 in /home/ishani/.local/lib/python3.8/site-packages (from nbconvert->jupyter->tensorflow-object-detection-api) (0.5.1)\n",
      "Requirement already satisfied: bleach in /home/ishani/.local/lib/python3.8/site-packages (from nbconvert->jupyter->tensorflow-object-detection-api) (3.2.1)\n",
      "Requirement already satisfied: defusedxml in /home/ishani/.local/lib/python3.8/site-packages (from nbconvert->jupyter->tensorflow-object-detection-api) (0.6.0)\n",
      "Requirement already satisfied: async-generator in /home/ishani/.local/lib/python3.8/site-packages (from nbclient<0.6.0,>=0.5.0->nbconvert->jupyter->tensorflow-object-detection-api) (1.10)\n",
      "Requirement already satisfied: nest-asyncio in /home/ishani/.local/lib/python3.8/site-packages (from nbclient<0.6.0,>=0.5.0->nbconvert->jupyter->tensorflow-object-detection-api) (1.4.3)\n",
      "Requirement already satisfied: webencodings in /home/ishani/.local/lib/python3.8/site-packages (from bleach->nbconvert->jupyter->tensorflow-object-detection-api) (0.5.1)\n",
      "Requirement already satisfied: packaging in /home/ishani/.local/lib/python3.8/site-packages (from bleach->nbconvert->jupyter->tensorflow-object-detection-api) (20.8)\n",
      "Requirement already satisfied: qtpy in /home/ishani/.local/lib/python3.8/site-packages (from qtconsole->jupyter->tensorflow-object-detection-api) (1.9.0)\n",
      "Requirement already satisfied: absl-py~=0.10 in /home/ishani/.local/lib/python3.8/site-packages (from tensorflow->tensorflow-object-detection-api) (0.11.0)\n",
      "Requirement already satisfied: flatbuffers~=1.12.0 in /home/ishani/.local/lib/python3.8/site-packages (from tensorflow->tensorflow-object-detection-api) (1.12)\n",
      "Requirement already satisfied: typing-extensions~=3.7.4 in /home/ishani/.local/lib/python3.8/site-packages (from tensorflow->tensorflow-object-detection-api) (3.7.4.3)\n",
      "Requirement already satisfied: opt-einsum~=3.3.0 in /home/ishani/.local/lib/python3.8/site-packages (from tensorflow->tensorflow-object-detection-api) (3.3.0)\n",
      "Requirement already satisfied: gast==0.3.3 in /home/ishani/.local/lib/python3.8/site-packages (from tensorflow->tensorflow-object-detection-api) (0.3.3)\n",
      "Requirement already satisfied: tensorboard~=2.4 in /home/ishani/.local/lib/python3.8/site-packages (from tensorflow->tensorflow-object-detection-api) (2.4.0)\n",
      "Requirement already satisfied: tensorflow-estimator<2.5.0,>=2.4.0rc0 in /home/ishani/.local/lib/python3.8/site-packages (from tensorflow->tensorflow-object-detection-api) (2.4.0)\n",
      "Requirement already satisfied: termcolor~=1.1.0 in /home/ishani/.local/lib/python3.8/site-packages (from tensorflow->tensorflow-object-detection-api) (1.1.0)\n",
      "Requirement already satisfied: keras-preprocessing~=1.1.2 in /home/ishani/.local/lib/python3.8/site-packages (from tensorflow->tensorflow-object-detection-api) (1.1.2)\n",
      "Requirement already satisfied: h5py~=2.10.0 in /home/ishani/.local/lib/python3.8/site-packages (from tensorflow->tensorflow-object-detection-api) (2.10.0)\n",
      "Requirement already satisfied: astunparse~=1.6.3 in /home/ishani/.local/lib/python3.8/site-packages (from tensorflow->tensorflow-object-detection-api) (1.6.3)\n",
      "Requirement already satisfied: google-pasta~=0.2 in /home/ishani/.local/lib/python3.8/site-packages (from tensorflow->tensorflow-object-detection-api) (0.2.0)\n",
      "Requirement already satisfied: grpcio~=1.32.0 in /home/ishani/.local/lib/python3.8/site-packages (from tensorflow->tensorflow-object-detection-api) (1.32.0)\n",
      "Requirement already satisfied: wrapt~=1.12.1 in /home/ishani/.local/lib/python3.8/site-packages (from tensorflow->tensorflow-object-detection-api) (1.12.1)\n",
      "Requirement already satisfied: google-auth-oauthlib<0.5,>=0.4.1 in /home/ishani/.local/lib/python3.8/site-packages (from tensorboard~=2.4->tensorflow->tensorflow-object-detection-api) (0.4.2)\n",
      "Requirement already satisfied: google-auth<2,>=1.6.3 in /home/ishani/.local/lib/python3.8/site-packages (from tensorboard~=2.4->tensorflow->tensorflow-object-detection-api) (1.24.0)\n",
      "Requirement already satisfied: requests<3,>=2.21.0 in /usr/lib/python3/dist-packages (from tensorboard~=2.4->tensorflow->tensorflow-object-detection-api) (2.22.0)\n",
      "Requirement already satisfied: tensorboard-plugin-wit>=1.6.0 in /home/ishani/.local/lib/python3.8/site-packages (from tensorboard~=2.4->tensorflow->tensorflow-object-detection-api) (1.7.0)\n",
      "Requirement already satisfied: werkzeug>=0.11.15 in /home/ishani/.local/lib/python3.8/site-packages (from tensorboard~=2.4->tensorflow->tensorflow-object-detection-api) (1.0.1)\n",
      "Requirement already satisfied: markdown>=2.6.8 in /home/ishani/.local/lib/python3.8/site-packages (from tensorboard~=2.4->tensorflow->tensorflow-object-detection-api) (3.3.3)\n",
      "Requirement already satisfied: cachetools<5.0,>=2.0.0 in /home/ishani/.local/lib/python3.8/site-packages (from google-auth<2,>=1.6.3->tensorboard~=2.4->tensorflow->tensorflow-object-detection-api) (4.2.0)\n",
      "Requirement already satisfied: rsa<5,>=3.1.4 in /home/ishani/.local/lib/python3.8/site-packages (from google-auth<2,>=1.6.3->tensorboard~=2.4->tensorflow->tensorflow-object-detection-api) (4.7)\n",
      "Requirement already satisfied: pyasn1-modules>=0.2.1 in /home/ishani/.local/lib/python3.8/site-packages (from google-auth<2,>=1.6.3->tensorboard~=2.4->tensorflow->tensorflow-object-detection-api) (0.2.8)\n",
      "Requirement already satisfied: requests-oauthlib>=0.7.0 in /home/ishani/.local/lib/python3.8/site-packages (from google-auth-oauthlib<0.5,>=0.4.1->tensorboard~=2.4->tensorflow->tensorflow-object-detection-api) (1.3.0)\n",
      "Requirement already satisfied: pyasn1<0.5.0,>=0.4.6 in /home/ishani/.local/lib/python3.8/site-packages (from pyasn1-modules>=0.2.1->google-auth<2,>=1.6.3->tensorboard~=2.4->tensorflow->tensorflow-object-detection-api) (0.4.8)\n",
      "Requirement already satisfied: oauthlib>=3.0.0 in /usr/lib/python3/dist-packages (from requests-oauthlib>=0.7.0->google-auth-oauthlib<0.5,>=0.4.1->tensorboard~=2.4->tensorflow->tensorflow-object-detection-api) (3.1.0)\n",
      "Requirement already satisfied: tqdm>=4.14 in /home/ishani/.local/lib/python3.8/site-packages (from twine->tensorflow-object-detection-api) (4.56.0)\n",
      "Collecting readme-renderer>=21.0\n",
      "  Downloading readme_renderer-29.0-py2.py3-none-any.whl (15 kB)\n",
      "Requirement already satisfied: keyring>=15.1 in /usr/lib/python3/dist-packages (from twine->tensorflow-object-detection-api) (18.0.1)\n",
      "Collecting rfc3986>=1.4.0\n",
      "  Downloading rfc3986-1.4.0-py2.py3-none-any.whl (31 kB)\n",
      "Requirement already satisfied: colorama>=0.4.3 in /usr/lib/python3/dist-packages (from twine->tensorflow-object-detection-api) (0.4.3)\n",
      "Collecting requests-toolbelt!=0.9.0,>=0.8.0\n"
     ]
    },
    {
     "name": "stdout",
     "output_type": "stream",
     "text": [
      "  Downloading requests_toolbelt-0.9.1-py2.py3-none-any.whl (54 kB)\n",
      "\u001b[K     |████████████████████████████████| 54 kB 279 kB/s eta 0:00:011\n",
      "\u001b[?25hCollecting pkginfo>=1.4.2\n",
      "  Downloading pkginfo-1.7.0-py2.py3-none-any.whl (25 kB)\n",
      "Requirement already satisfied: secretstorage in /usr/lib/python3/dist-packages (from keyring>=15.1->twine->tensorflow-object-detection-api) (2.3.1)\n",
      "Collecting docutils>=0.13.1\n",
      "  Downloading docutils-0.16-py2.py3-none-any.whl (548 kB)\n",
      "\u001b[K     |████████████████████████████████| 548 kB 2.7 MB/s eta 0:00:01\n",
      "\u001b[?25hBuilding wheels for collected packages: tensorflow-object-detection-api\n",
      "  Building wheel for tensorflow-object-detection-api (setup.py) ... \u001b[?25ldone\n",
      "\u001b[?25h  Created wheel for tensorflow-object-detection-api: filename=tensorflow_object_detection_api-0.1.1-py3-none-any.whl size=844512 sha256=31667aaa1f527b6eab57d072d55b8d2a2ad21f8503832f402e451b75d90f7879\n",
      "  Stored in directory: /home/ishani/.cache/pip/wheels/93/4e/cd/e2d0aecb1680cbc6730933bc53a776f7213acb08ecbb91c301\n",
      "Successfully built tensorflow-object-detection-api\n",
      "Installing collected packages: docutils, rfc3986, requests-toolbelt, readme-renderer, pkginfo, twine, Cython, contextlib2, tensorflow-object-detection-api\n",
      "Successfully installed Cython-0.29.22 contextlib2-0.6.0.post1 docutils-0.16 pkginfo-1.7.0 readme-renderer-29.0 requests-toolbelt-0.9.1 rfc3986-1.4.0 tensorflow-object-detection-api-0.1.1 twine-3.3.0\n"
     ]
    }
   ],
   "source": [
    "!pip install tensorflow-object-detection-api"
   ]
  },
  {
   "cell_type": "code",
   "execution_count": 6,
   "metadata": {},
   "outputs": [
    {
     "name": "stdout",
     "output_type": "stream",
     "text": [
      "Traceback (most recent call last):\n",
      "  File \"Tensorflow/scripts/generate_tfrecord.py\", line 59, in <module>\n",
      "    label_map = label_map_util.load_labelmap(args.labels_path)\n",
      "  File \"/home/ishani/.local/lib/python3.8/site-packages/object_detection/utils/label_map_util.py\", line 132, in load_labelmap\n",
      "    with tf.gfile.GFile(path, 'r') as fid:\n",
      "AttributeError: module 'tensorflow' has no attribute 'gfile'\n",
      "Traceback (most recent call last):\n",
      "  File \"Tensorflow/scripts/generate_tfrecord.py\", line 59, in <module>\n",
      "    label_map = label_map_util.load_labelmap(args.labels_path)\n",
      "  File \"/home/ishani/.local/lib/python3.8/site-packages/object_detection/utils/label_map_util.py\", line 132, in load_labelmap\n",
      "    with tf.gfile.GFile(path, 'r') as fid:\n",
      "AttributeError: module 'tensorflow' has no attribute 'gfile'\n"
     ]
    }
   ],
   "source": [
    "import os\n",
    "\n",
    "if os.name == 'posix':\n",
    "    !python3 {SCRIPTS_PATH + '/generate_tfrecord.py'} -x {IMAGE_PATH + '/train'} -l {ANNOTATION_PATH + '/label_map.pbtxt'} -o {ANNOTATION_PATH + '/train.record'}\n",
    "    !python3 {SCRIPTS_PATH + '/generate_tfrecord.py'} -x {IMAGE_PATH + '/test'} -l {ANNOTATION_PATH + '/label_map.pbtxt'} -o {ANNOTATION_PATH + '/test.record'}\n",
    "else:\n",
    "    !python {SCRIPTS_PATH + '/generate_tfrecord.py'} -x {IMAGE_PATH + '/train'} -l {ANNOTATION_PATH + '/label_map.pbtxt'} -o {ANNOTATION_PATH + '/train.record'}\n",
    "    !python {SCRIPTS_PATH + '/generate_tfrecord.py'} -x {IMAGE_PATH + '/test'} -l {ANNOTATION_PATH + '/label_map.pbtxt'} -o {ANNOTATION_PATH + '/test.record'}"
   ]
  },
  {
   "cell_type": "code",
   "execution_count": null,
   "metadata": {},
   "outputs": [],
   "source": []
  },
  {
   "cell_type": "code",
   "execution_count": null,
   "metadata": {},
   "outputs": [],
   "source": []
  },
  {
   "cell_type": "code",
   "execution_count": null,
   "metadata": {},
   "outputs": [],
   "source": []
  }
 ],
 "metadata": {
  "kernelspec": {
   "display_name": "Python 3",
   "language": "python",
   "name": "python3"
  },
  "language_info": {
   "codemirror_mode": {
    "name": "ipython",
    "version": 3
   },
   "file_extension": ".py",
   "mimetype": "text/x-python",
   "name": "python",
   "nbconvert_exporter": "python",
   "pygments_lexer": "ipython3",
   "version": "3.8.5"
  }
 },
 "nbformat": 4,
 "nbformat_minor": 4
}
