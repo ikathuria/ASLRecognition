{
 "cells": [
  {
   "cell_type": "markdown",
   "metadata": {},
   "source": [
    "# ASL Letter Recognition"
   ]
  },
  {
   "cell_type": "markdown",
   "metadata": {},
   "source": [
    "## Setup"
   ]
  },
  {
   "cell_type": "code",
   "execution_count": 1,
   "metadata": {},
   "outputs": [],
   "source": [
    "WORKPLACE_PATH = 'Tensorflow/workplace'\n",
    "SCRIPTS_PATH = 'Tensorflow/scripts'\n",
    "APIMODEL_PATH = 'Tensorflow/models'\n",
    "ANNOTATION_PATH = WORKPLACE_PATH + '/annotations'\n",
    "IMAGE_PATH = WORKPLACE_PATH + '/images'\n",
    "MODEL_PATH = WORKPLACE_PATH + '/models'\n",
    "PRETRAINED_MODEL_PATH = WORKPLACE_PATH + '/pre-trained-models'\n",
    "CONFIG_PATH = MODEL_PATH + '/my_ssd_mobnet/pipeline.config'\n",
    "CHECKPOINT_PATH = MODEL_PATH + '/my_ssd_mobnet/'"
   ]
  },
  {
   "cell_type": "markdown",
   "metadata": {},
   "source": [
    "## Generate Labels"
   ]
  },
  {
   "cell_type": "code",
   "execution_count": 2,
   "metadata": {},
   "outputs": [],
   "source": [
    "labels = [{'name':'a', 'id':1},\n",
    "          {'name':'b', 'id':2},\n",
    "          {'name':'c', 'id':3},\n",
    "          {'name':'d', 'id':4},\n",
    "          {'name':'e', 'id':5},\n",
    "          {'name':'f', 'id':6},\n",
    "          {'name':'g', 'id':7},\n",
    "          {'name':'h', 'id':8},\n",
    "          {'name':'i', 'id':9},\n",
    "          {'name':'j', 'id':10},\n",
    "          {'name':'k', 'id':11},\n",
    "          {'name':'l', 'id':12},\n",
    "          {'name':'m', 'id':13},\n",
    "          {'name':'n', 'id':14},\n",
    "          {'name':'o', 'id':15},\n",
    "          {'name':'p', 'id':16},\n",
    "          {'name':'q', 'id':17},\n",
    "          {'name':'r', 'id':18},\n",
    "          {'name':'s', 'id':19},\n",
    "          {'name':'t', 'id':20},\n",
    "          {'name':'u', 'id':21},\n",
    "          {'name':'v', 'id':22},\n",
    "          {'name':'w', 'id':23},\n",
    "          {'name':'x', 'id':24},\n",
    "          {'name':'y', 'id':25},\n",
    "          {'name':'z', 'id':26},\n",
    "          ]"
   ]
  },
  {
   "cell_type": "code",
   "execution_count": 3,
   "metadata": {},
   "outputs": [],
   "source": [
    "with open('Tensorflow\\workplace\\Annotation\\label_map.pbtxt', 'w') as f:\n",
    "    for label in labels:\n",
    "        f.write('item { \\n')\n",
    "        f.write('\\tname:\\'{}\\'\\n'.format(label['name']))\n",
    "        f.write('\\tid:{}\\n'.format(label['id']))\n",
    "        f.write('}\\n')"
   ]
  },
  {
   "cell_type": "markdown",
   "metadata": {},
   "source": [
    "## Generate TF records"
   ]
  },
  {
   "cell_type": "code",
   "execution_count": 4,
   "metadata": {},
   "outputs": [
    {
     "name": "stderr",
     "output_type": "stream",
     "text": [
      "Traceback (most recent call last):\n",
      "  File \"Tensorflow/scripts/generate_tfrecord.py\", line 27, in <module>\n",
      "    from object_detection.utils import dataset_util, label_map_util\n",
      "ModuleNotFoundError: No module named 'object_detection'\n",
      "Traceback (most recent call last):\n",
      "  File \"Tensorflow/scripts/generate_tfrecord.py\", line 27, in <module>\n",
      "    from object_detection.utils import dataset_util, label_map_util\n",
      "ModuleNotFoundError: No module named 'object_detection'\n"
     ]
    }
   ],
   "source": [
    "!python {SCRIPTS_PATH + '/generate_tfrecord.py'} -x {IMAGE_PATH + '/train'} -l {ANNOTATION_PATH + '/label_map.pbtxt'} -o {ANNOTATION_PATH + '/train.record'}\n",
    "!python {SCRIPTS_PATH + '/generate_tfrecord.py'} -x {IMAGE_PATH + '/test'} -l {ANNOTATION_PATH + '/label_map.pbtxt'} -o {ANNOTATION_PATH + '/test.record'}"
   ]
  },
  {
   "cell_type": "code",
   "execution_count": null,
   "metadata": {},
   "outputs": [],
   "source": []
  },
  {
   "cell_type": "code",
   "execution_count": null,
   "metadata": {},
   "outputs": [],
   "source": []
  },
  {
   "cell_type": "code",
   "execution_count": null,
   "metadata": {},
   "outputs": [],
   "source": []
  }
 ],
 "metadata": {
  "kernelspec": {
   "display_name": "Python 3",
   "language": "python",
   "name": "python3"
  },
  "language_info": {
   "codemirror_mode": {
    "name": "ipython",
    "version": 3
   },
   "file_extension": ".py",
   "mimetype": "text/x-python",
   "name": "python",
   "nbconvert_exporter": "python",
   "pygments_lexer": "ipython3",
   "version": "3.8.3"
  }
 },
 "nbformat": 4,
 "nbformat_minor": 4
}
